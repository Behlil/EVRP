{
 "cells": [
  {
   "cell_type": "code",
   "execution_count": 1,
   "metadata": {},
   "outputs": [],
   "source": [
    "# ignore all warnings\n",
    "import warnings\n",
    "\n",
    "warnings.filterwarnings(\"ignore\")"
   ]
  },
  {
   "cell_type": "code",
   "execution_count": 2,
   "metadata": {},
   "outputs": [],
   "source": [
    "from build_problem import  build_problem, Customer, Route, Vehicule, Link, Node, ChargingStation, Depot\n",
    "import numpy as np\n",
    "import matplotlib.pyplot as plt\n",
    "\n",
    "# Set the random seed for reproducibility\n",
    "np.random.seed(100)\n",
    "\n",
    "# Create the problem\n",
    "file_path = 'C:/Users/lenovo/Downloads/PFE/projet/Dataset_A/Instances/C101-5.xml'\n",
    "nodes, links, requests, vehicles = build_problem(file_path)"
   ]
  },
  {
   "cell_type": "code",
   "execution_count": 3,
   "metadata": {},
   "outputs": [
    {
     "data": {
      "image/png": "[encoded data removed]",
      "text/plain": [
       "<Figure size 1000x600 with 1 Axes>"
      ]
     },
     "metadata": {},
     "output_type": "display_data"
    }
   ],
   "source": [
    "def plot(nodes):\n",
    "        # plot the customer nodes in blue and depot nodes in red and charging stations in green and line between them in grey\n",
    "        node_ids = list(nodes.keys())\n",
    "        for node_id in node_ids:\n",
    "            node = nodes[node_id]\n",
    "            if isinstance(node, Customer):\n",
    "                plt.scatter(node.x, node.y, color='blue', alpha=0.5, s=400)\n",
    "                plt.text(node.x, node.y, node.node_id)\n",
    "            elif isinstance(node, Depot):\n",
    "                plt.scatter(node.x, node.y, color='red', alpha=0.5, s=400)\n",
    "                plt.text(node.x, node.y, node.node_id)\n",
    "            elif isinstance(node, ChargingStation):\n",
    "                plt.scatter(node.x, node.y, color='green', alpha=0.5, s=400)\n",
    "                plt.text(node.x, node.y, node.node_id)\n",
    "\n",
    "        # grey background\n",
    "        \n",
    "        # no axis\n",
    "        plt.axis('off')\n",
    "\n",
    "        # change the background color\n",
    "        plt.gca().set_facecolor('lightgrey')\n",
    "        plt.show()\n",
    "\n",
    "\n",
    "\n",
    "plt.figure(figsize=(10, 6))\n",
    "plot(nodes)"
   ]
  },
  {
   "cell_type": "code",
   "execution_count": 4,
   "metadata": {},
   "outputs": [
    {
     "ename": "IndexError",
     "evalue": "list index out of range",
     "output_type": "error",
     "traceback": [
      "\u001b[1;31m---------------------------------------------------------------------------\u001b[0m",
      "\u001b[1;31mIndexError\u001b[0m                                Traceback (most recent call last)",
      "Cell \u001b[1;32mIn[4], line 4\u001b[0m\n\u001b[0;32m      1\u001b[0m \u001b[38;5;28;01mfrom\u001b[39;00m \u001b[38;5;21;01mGenerate_random\u001b[39;00m \u001b[38;5;28;01mimport\u001b[39;00m generate_random_route\n\u001b[0;32m      3\u001b[0m \u001b[38;5;66;03m# Generate a random route\u001b[39;00m\n\u001b[1;32m----> 4\u001b[0m route \u001b[38;5;241m=\u001b[39m \u001b[43mgenerate_random_route\u001b[49m\u001b[43m(\u001b[49m\u001b[43mnodes\u001b[49m\u001b[43m,\u001b[49m\u001b[43m \u001b[49m\u001b[43mvehicles\u001b[49m\u001b[43m,\u001b[49m\u001b[43m \u001b[49m\u001b[43mlinks\u001b[49m\u001b[43m)\u001b[49m\n\u001b[0;32m      5\u001b[0m route_obj \u001b[38;5;241m=\u001b[39m Route(\u001b[38;5;241m1\u001b[39m, route)\n\u001b[0;32m      6\u001b[0m route_obj\u001b[38;5;241m.\u001b[39mplot(nodes)\n",
      "File \u001b[1;32mc:\\Users\\lenovo\\Downloads\\PFE\\projet\\src\\Generate_random.py:31\u001b[0m, in \u001b[0;36mgenerate_random_route\u001b[1;34m(nodes, vehicles, links)\u001b[0m\n\u001b[0;32m     28\u001b[0m next_node_id \u001b[38;5;241m=\u001b[39m next_customer\u001b[38;5;241m.\u001b[39mnode_id\n\u001b[0;32m     30\u001b[0m \u001b[38;5;66;03m# Calculer l'énergie nécessaire pour atteindre le prochain client\u001b[39;00m\n\u001b[1;32m---> 31\u001b[0m link \u001b[38;5;241m=\u001b[39m \u001b[43m[\u001b[49m\u001b[43mlink\u001b[49m\u001b[43m \u001b[49m\u001b[38;5;28;43;01mfor\u001b[39;49;00m\u001b[43m \u001b[49m\u001b[43mlink\u001b[49m\u001b[43m \u001b[49m\u001b[38;5;129;43;01min\u001b[39;49;00m\u001b[43m \u001b[49m\u001b[43mlinks\u001b[49m\u001b[43m \u001b[49m\u001b[38;5;28;43;01mif\u001b[39;49;00m\u001b[43m \u001b[49m\u001b[43mlink\u001b[49m\u001b[38;5;241;43m.\u001b[39;49m\u001b[43mfirst_node\u001b[49m\u001b[43m \u001b[49m\u001b[38;5;241;43m==\u001b[39;49m\u001b[43m \u001b[49m\u001b[43mcurrent_node_id\u001b[49m\u001b[43m \u001b[49m\u001b[38;5;129;43;01mand\u001b[39;49;00m\u001b[43m \u001b[49m\u001b[43mlink\u001b[49m\u001b[38;5;241;43m.\u001b[39;49m\u001b[43msecond_node\u001b[49m\u001b[43m \u001b[49m\u001b[38;5;241;43m==\u001b[39;49m\u001b[43m \u001b[49m\u001b[43mnext_node_id\u001b[49m\u001b[43m]\u001b[49m\u001b[43m[\u001b[49m\u001b[38;5;241;43m0\u001b[39;49m\u001b[43m]\u001b[49m\n\u001b[0;32m     32\u001b[0m energy_needed \u001b[38;5;241m=\u001b[39m link\u001b[38;5;241m.\u001b[39menergy_consumption\n\u001b[0;32m     34\u001b[0m \u001b[38;5;66;03m# Vérifier si la batterie est suffisante pour atteindre le prochain nœud\u001b[39;00m\n",
      "\u001b[1;31mIndexError\u001b[0m: list index out of range"
     ]
    }
   ],
   "source": [
    "from Generate_random import generate_random_route\n",
    "\n",
    "# Generate a random route\n",
    "route = generate_random_route(nodes, vehicles, links)\n",
    "route_obj = Route(1, route)\n",
    "route_obj.plot(nodes)"
   ]
  },
  {
   "cell_type": "code",
   "execution_count": null,
   "metadata": {},
   "outputs": [],
   "source": [
    "route_obj.calculate_energy_consumption(links)"
   ]
  },
  {
   "cell_type": "code",
   "execution_count": 72,
   "metadata": {},
   "outputs": [],
   "source": [
    "def calculate_energy_consumption(route, links):\n",
    "    route = Route(1, route)\n",
    "    energy_consumption = route.calculate_energy_consumption(links)\n",
    "    return energy_consumption\n"
   ]
  },
  {
   "cell_type": "code",
   "execution_count": 73,
   "metadata": {},
   "outputs": [],
   "source": [
    "import random\n",
    "\n",
    "def generate_neighbor(route, nodes):\n",
    "    new_route = route.copy()\n",
    "    \n",
    "    # Randomly decide whether to swap customers or add/remove charging stations\n",
    "    action = random.choice(['swap_customers', 'modify_charging_stations'])\n",
    "    \n",
    "    if action == 'swap_customers':\n",
    "        # Get a list of customer nodes (ignoring depots and charging stations)\n",
    "        customer_indices = [i for i in range(1, len(route) - 1) if isinstance(nodes[route[i]], Customer)]\n",
    "        if len(customer_indices) > 1:\n",
    "            # Choose two customers to swap\n",
    "            i, j = random.sample(customer_indices, 2)\n",
    "            new_route[i], new_route[j] = new_route[j], new_route[i]  # Swap their positions\n",
    "\n",
    "    elif action == 'modify_charging_stations':\n",
    "        charging_station_indices = [i for i in range(1, len(route) - 1) if isinstance(nodes[route[i]], ChargingStation)]\n",
    "        # Randomly decide to add or remove a charging station\n",
    "        modify_action = random.choice(['add', 'remove'])\n",
    "        \n",
    "        if modify_action == 'add':\n",
    "            # Choose a random charging station from available ones\n",
    "            available_charging_stations = [node.node_id for node in nodes.values() if isinstance(node, ChargingStation)]\n",
    "            # Remove charging stations that are already in the route\n",
    "            available_charging_stations = [cs for cs in available_charging_stations if cs not in new_route]\n",
    "            if available_charging_stations:\n",
    "                # Insert a random charging station at a random valid position\n",
    "                new_station = random.choice(available_charging_stations)\n",
    "                position = random.randint(1, len(new_route) - 1)\n",
    "                new_route.insert(position, new_station)\n",
    "\n",
    "        elif modify_action == 'remove' and charging_station_indices:\n",
    "            # Remove a random charging station from the route\n",
    "            remove_index = random.choice(charging_station_indices)\n",
    "            new_route.pop(remove_index)\n",
    "    \n",
    "    return new_route\n"
   ]
  },
  {
   "cell_type": "code",
   "execution_count": 74,
   "metadata": {},
   "outputs": [],
   "source": [
    "import math\n",
    "\n",
    "def simulated_annealing(nodes, initial_route, initial_temp, cooling_rate, stopping_temp, links, vehicles, requests):\n",
    "    current_route = initial_route\n",
    "    current_energy = calculate_energy_consumption(current_route, links)\n",
    "    best_route = current_route\n",
    "    best_energy = current_energy\n",
    "    temp = initial_temp\n",
    "\n",
    "    while temp > stopping_temp:\n",
    "        # Generate a neighboring solution with charging stations and customer swaps\n",
    "        new_route = generate_neighbor(current_route, nodes)\n",
    "        Route_obj = Route(1, new_route)\n",
    "        new_route = generate_neighbor(current_route, nodes)\n",
    "        new_energy = calculate_energy_consumption(new_route, links)\n",
    "\n",
    "        # Calculate the acceptance probability\n",
    "        if new_energy < current_energy:\n",
    "            current_route = new_route\n",
    "            current_energy = new_energy\n",
    "        else:\n",
    "            # Acceptance probability formula (accept worse solutions with a probability)\n",
    "            acceptance_probability = math.exp((current_energy - new_energy) / temp)\n",
    "            if random.random() < acceptance_probability:\n",
    "                current_route = new_route\n",
    "                current_energy = new_energy\n",
    "\n",
    "        # Update the best solution found so far\n",
    "        if current_energy < best_energy:\n",
    "            best_route = current_route\n",
    "            best_energy = current_energy\n",
    "\n",
    "\n",
    "        # Cool down the temperature\n",
    "        temp *= cooling_rate\n",
    "\n",
    "    return best_route, best_energy\n"
   ]
  },
  {
   "cell_type": "code",
   "execution_count": null,
   "metadata": {},
   "outputs": [],
   "source": [
    "# Set the initial temperature, cooling rate, and stopping temperature\n",
    "initial_temp = 1000\n",
    "cooling_rate = 0.99\n",
    "stopping_temp = 0.1\n",
    "\n",
    "# Run the simulated annealing algorithm\n",
    "best_route, best_energy = simulated_annealing(nodes, route, initial_temp, cooling_rate, stopping_temp, links, vehicles, requests)\n",
    "\n",
    "# Plot the best route found\n",
    "route_obj = Route(1, best_route)\n",
    "route_obj.plot(nodes)\n",
    "\n",
    "# Print the energy consumption of the best route\n",
    "print(f'Best energy consumption: {best_energy:.2f} kWh')\n",
    "\n"
   ]
  },
  {
   "cell_type": "code",
   "execution_count": null,
   "metadata": {},
   "outputs": [],
   "source": []
  }
 ],
 "metadata": {
  "kernelspec": {
   "display_name": "Python 3",
   "language": "python",
   "name": "python3"
  },
  "language_info": {
   "codemirror_mode": {
    "name": "ipython",
    "version": 3
   },
   "file_extension": ".py",
   "mimetype": "text/x-python",
   "name": "python",
   "nbconvert_exporter": "python",
   "pygments_lexer": "ipython3",
   "version": "3.12.4"
  }
 },
 "nbformat": 4,
 "nbformat_minor": 2
}
